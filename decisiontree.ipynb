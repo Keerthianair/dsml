{
 "cells": [
  {
   "cell_type": "code",
   "execution_count": 1,
   "id": "af7bdd8b",
   "metadata": {},
   "outputs": [
    {
     "data": {
      "text/plain": [
       "(150, 4)"
      ]
     },
     "execution_count": 1,
     "metadata": {},
     "output_type": "execute_result"
    }
   ],
   "source": [
    "import pandas as pd\n",
    "import numpy as np\n",
    "from sklearn.datasets import load_iris\n",
    "\n",
    "data=load_iris()\n",
    "data.data.shape"
   ]
  },
  {
   "cell_type": "code",
   "execution_count": 2,
   "id": "afdc7f42",
   "metadata": {},
   "outputs": [
    {
     "name": "stdout",
     "output_type": "stream",
     "text": [
      "classes to predict: ['setosa' 'versicolor' 'virginica']\n",
      "Features:  ['sepal length (cm)', 'sepal width (cm)', 'petal length (cm)', 'petal width (cm)']\n"
     ]
    }
   ],
   "source": [
    "print('classes to predict:',data.target_names)\n",
    "print('Features: ',data.feature_names)"
   ]
  },
  {
   "cell_type": "code",
   "execution_count": 3,
   "id": "ff36c156",
   "metadata": {},
   "outputs": [
    {
     "data": {
      "text/plain": [
       "(150, 4)"
      ]
     },
     "metadata": {},
     "output_type": "display_data"
    },
    {
     "data": {
      "text/plain": [
       "(150,)"
      ]
     },
     "metadata": {},
     "output_type": "display_data"
    }
   ],
   "source": [
    "x=data.data\n",
    "y=data.target\n",
    "\n",
    "display (x.shape,y.shape)"
   ]
  },
  {
   "cell_type": "code",
   "execution_count": 5,
   "id": "e7051d8c",
   "metadata": {},
   "outputs": [
    {
     "data": {
      "text/plain": [
       "DecisionTreeClassifier()"
      ]
     },
     "execution_count": 5,
     "metadata": {},
     "output_type": "execute_result"
    }
   ],
   "source": [
    "from sklearn.model_selection import train_test_split\n",
    "from sklearn.tree import DecisionTreeClassifier\n",
    "\n",
    "x_train,x_test,y_train,y_test=train_test_split(x,y,random_state=50,test_size=0.25)\n",
    "\n",
    "classifier = DecisionTreeClassifier()\n",
    "classifier.fit(x_train,y_train)"
   ]
  },
  {
   "cell_type": "code",
   "execution_count": 9,
   "id": "0c6f5e90",
   "metadata": {},
   "outputs": [
    {
     "name": "stdout",
     "output_type": "stream",
     "text": [
      "Accuracy on train data using Gini:  1.0\n",
      "Accuracy on train data using Gini:  0.9473684210526315\n"
     ]
    }
   ],
   "source": [
    "y_pred=classifier.predict(x_test)\n",
    "from sklearn.metrics import accuracy_score\n",
    "print('Accuracy on train data using Gini: ',accuracy_score(y_true=y_train,y_pred=classifier.predict(x_train)))\n",
    "print('Accuracy on train data using Gini: ',accuracy_score(y_true=y_test,y_pred=y_pred))"
   ]
  },
  {
   "cell_type": "code",
   "execution_count": 12,
   "id": "5a8de0b9",
   "metadata": {},
   "outputs": [
    {
     "name": "stdout",
     "output_type": "stream",
     "text": [
      "Accuracy on train data using entropy 1.0\n",
      "Accuracy on test data using entropy 0.9473684210526315\n"
     ]
    }
   ],
   "source": [
    "classifier_entropy=DecisionTreeClassifier(criterion='entropy')\n",
    "classifier_entropy.fit(x_train,y_train)\n",
    "y_pred_entropy=classifier_entropy.predict(x_test)\n",
    "print('Accuracy on train data using entropy',accuracy_score(y_true=y_train,y_pred=classifier_entropy.predict(x_train)))\n",
    "print('Accuracy on test data using entropy',accuracy_score(y_true=y_test,y_pred=y_pred_entropy))"
   ]
  },
  {
   "cell_type": "code",
   "execution_count": 15,
   "id": "25d84f6a",
   "metadata": {},
   "outputs": [
    {
     "name": "stdout",
     "output_type": "stream",
     "text": [
      "\n"
     ]
    }
   ],
   "source": []
  },
  {
   "cell_type": "code",
   "execution_count": null,
   "id": "1a9a46ff",
   "metadata": {},
   "outputs": [],
   "source": []
  }
 ],
 "metadata": {
  "kernelspec": {
   "display_name": "Python 3",
   "language": "python",
   "name": "python3"
  },
  "language_info": {
   "codemirror_mode": {
    "name": "ipython",
    "version": 3
   },
   "file_extension": ".py",
   "mimetype": "text/x-python",
   "name": "python",
   "nbconvert_exporter": "python",
   "pygments_lexer": "ipython3",
   "version": "3.6.9"
  }
 },
 "nbformat": 4,
 "nbformat_minor": 5
}
