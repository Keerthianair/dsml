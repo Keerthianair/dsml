{
 "cells": [
  {
   "cell_type": "code",
   "execution_count": null,
   "id": "10cb72c8",
   "metadata": {},
   "outputs": [],
   "source": [
    "from sklearn import neighbors,datasets,preprocessing\n",
    "from sklearn.model_selection import train_test_split\n",
    "from sklearn.metrics import accuracy_score\n",
    "from sklearn.metrics import classification_report\n",
    "from sklearn.metrics import confusion_matrix\n",
    "\n",
    "iris=datasets.load_iris()\n",
    "X,y=iris.data[:,:],iris.target\n",
    "Xtrain,Xtest,y_train,y_test=train_test_split(X,y,stratify=y,random_state=0,train_size=0.7)\n",
    "\n",
    "scaler=preprocessing.StandardScaler().fit(Xtrain)\n",
    "Xtrain=scaler.transform(Xtrain)\n",
    "Xtest=scaler.transform(Xtest)\n",
    "\n",
    "scores=[]\n",
    "K_range=range(1,15)\n",
    "for k in k_range:\n",
    "    knn=neighbors.KNeighborsClassifier(n_neighbors=k)\n",
    "    knn.fit(Xtrain,y_train)\n",
    "    y_pred=knn.predict(Xtest)\n",
    "    scores.append(accuracy_score(y_test,y_pred))\n",
    "    \n",
    "import matplotlib.pyplot"
   ]
  }
 ],
 "metadata": {
  "kernelspec": {
   "display_name": "Python 3",
   "language": "python",
   "name": "python3"
  },
  "language_info": {
   "codemirror_mode": {
    "name": "ipython",
    "version": 3
   },
   "file_extension": ".py",
   "mimetype": "text/x-python",
   "name": "python",
   "nbconvert_exporter": "python",
   "pygments_lexer": "ipython3",
   "version": "3.6.9"
  }
 },
 "nbformat": 4,
 "nbformat_minor": 5
}
